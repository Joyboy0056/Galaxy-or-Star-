{
 "cells": [
  {
   "cell_type": "markdown",
   "id": "0db5e48c-823e-4f28-bc79-5ca550290bbd",
   "metadata": {},
   "source": [
    "# **Star or Galaxy?**\n",
    "In this project we provide an application of CNNs' algorithm for the classification of a set of real pieces of astronomic images.\n"
   ]
  },
  {
   "cell_type": "code",
   "execution_count": 1,
   "id": "54e32a94-363e-4908-bf18-4b663645c782",
   "metadata": {},
   "outputs": [],
   "source": [
    "# importing the libraries and modules\n",
    "\n",
    "import numpy as np\n",
    "import tensorflow as tf\n",
    "from tensorflow.keras.preprocessing.image import ImageDataGenerator\n",
    "from tensorflow.keras.models import Sequential\n",
    "from tensorflow.keras.layers import Conv2D, MaxPooling2D, Flatten, Dense, Dropout\n",
    "from tensorflow.keras.callbacks import EarlyStopping\n",
    "import matplotlib.pyplot as plt\n",
    "from sklearn.model_selection import train_test_split\n",
    "from sklearn.metrics import classification_report, confusion_matrix"
   ]
  },
  {
   "cell_type": "markdown",
   "id": "c7d01bc9-83de-4682-bdf5-fa3d4573c818",
   "metadata": {},
   "source": [
    "Data preparation"
   ]
  },
  {
   "cell_type": "code",
   "execution_count": 3,
   "id": "e5cb9dab-9a78-48ca-9e5d-cd0400996095",
   "metadata": {},
   "outputs": [
    {
     "name": "stdout",
     "output_type": "stream",
     "text": [
      "Found 3190 images belonging to 2 classes.\n",
      "Found 796 images belonging to 2 classes.\n"
     ]
    }
   ],
   "source": [
    "# Directory delle immagini\n",
    "dataset_dir = 'Cutout Files'\n",
    "\n",
    "# Dimensioni delle immagini\n",
    "img_height, img_width = 150, 150\n",
    "batch_size = 32\n",
    "\n",
    "# Generatore di immagini con augmentazione dei dati\n",
    "datagen = ImageDataGenerator(\n",
    "    rescale=1./255,\n",
    "    validation_split=0.2\n",
    ")\n",
    "\n",
    "train_generator = datagen.flow_from_directory(\n",
    "    dataset_dir,\n",
    "    target_size=(img_height, img_width),\n",
    "    batch_size=batch_size,\n",
    "    class_mode='categorical',\n",
    "    subset='training'\n",
    ")\n",
    "\n",
    "validation_generator = datagen.flow_from_directory(\n",
    "    dataset_dir,\n",
    "    target_size=(img_height, img_width),\n",
    "    batch_size=batch_size,\n",
    "    class_mode='categorical',\n",
    "    subset='validation'\n",
    ")\n"
   ]
  },
  {
   "cell_type": "markdown",
   "id": "d2139b74-f30f-4eb6-99a6-476e3a9c8e4b",
   "metadata": {},
   "source": [
    "# Definition and training of the CNN model"
   ]
  },
  {
   "cell_type": "code",
   "execution_count": 4,
   "id": "f5fd45f5-610d-482f-95c1-8023842f5235",
   "metadata": {},
   "outputs": [
    {
     "name": "stderr",
     "output_type": "stream",
     "text": [
      "C:\\Users\\tesei\\miniforge3\\lib\\site-packages\\keras\\src\\layers\\convolutional\\base_conv.py:107: UserWarning: Do not pass an `input_shape`/`input_dim` argument to a layer. When using Sequential models, prefer using an `Input(shape)` object as the first layer in the model instead.\n",
      "  super().__init__(activity_regularizer=activity_regularizer, **kwargs)\n"
     ]
    },
    {
     "name": "stdout",
     "output_type": "stream",
     "text": [
      "Epoch 1/25\n"
     ]
    },
    {
     "name": "stderr",
     "output_type": "stream",
     "text": [
      "C:\\Users\\tesei\\miniforge3\\lib\\site-packages\\keras\\src\\trainers\\data_adapters\\py_dataset_adapter.py:122: UserWarning: Your `PyDataset` class should call `super().__init__(**kwargs)` in its constructor. `**kwargs` can include `workers`, `use_multiprocessing`, `max_queue_size`. Do not pass these arguments to `fit()`, as they will be ignored.\n",
      "  self._warn_if_super_not_called()\n"
     ]
    },
    {
     "name": "stdout",
     "output_type": "stream",
     "text": [
      "\u001b[1m99/99\u001b[0m \u001b[32m━━━━━━━━━━━━━━━━━━━━\u001b[0m\u001b[37m\u001b[0m \u001b[1m145s\u001b[0m 1s/step - accuracy: 0.7580 - loss: 0.7777 - val_accuracy: 0.7669 - val_loss: 0.5334\n",
      "Epoch 2/25\n",
      "\u001b[1m 1/99\u001b[0m \u001b[37m━━━━━━━━━━━━━━━━━━━━\u001b[0m \u001b[1m1:24\u001b[0m 862ms/step - accuracy: 0.6250 - loss: 0.7595"
     ]
    },
    {
     "name": "stderr",
     "output_type": "stream",
     "text": [
      "C:\\Users\\tesei\\miniforge3\\lib\\contextlib.py:153: UserWarning: Your input ran out of data; interrupting training. Make sure that your dataset or generator can generate at least `steps_per_epoch * epochs` batches. You may need to use the `.repeat()` function when building your dataset.\n",
      "  self.gen.throw(typ, value, traceback)\n"
     ]
    },
    {
     "name": "stdout",
     "output_type": "stream",
     "text": [
      "\u001b[1m99/99\u001b[0m \u001b[32m━━━━━━━━━━━━━━━━━━━━\u001b[0m\u001b[37m\u001b[0m \u001b[1m1s\u001b[0m 4ms/step - accuracy: 0.6250 - loss: 0.7595 - val_accuracy: 0.6786 - val_loss: 0.6337\n",
      "Epoch 3/25\n",
      "\u001b[1m99/99\u001b[0m \u001b[32m━━━━━━━━━━━━━━━━━━━━\u001b[0m\u001b[37m\u001b[0m \u001b[1m110s\u001b[0m 1s/step - accuracy: 0.7641 - loss: 0.5206 - val_accuracy: 0.7747 - val_loss: 0.4203\n",
      "Epoch 4/25\n",
      "\u001b[1m99/99\u001b[0m \u001b[32m━━━━━━━━━━━━━━━━━━━━\u001b[0m\u001b[37m\u001b[0m \u001b[1m1s\u001b[0m 3ms/step - accuracy: 0.8125 - loss: 0.4381 - val_accuracy: 0.6429 - val_loss: 0.6916\n",
      "Epoch 5/25\n",
      "\u001b[1m99/99\u001b[0m \u001b[32m━━━━━━━━━━━━━━━━━━━━\u001b[0m\u001b[37m\u001b[0m \u001b[1m108s\u001b[0m 1s/step - accuracy: 0.7977 - loss: 0.4098 - val_accuracy: 0.8294 - val_loss: 0.3792\n",
      "Epoch 6/25\n",
      "\u001b[1m99/99\u001b[0m \u001b[32m━━━━━━━━━━━━━━━━━━━━\u001b[0m\u001b[37m\u001b[0m \u001b[1m1s\u001b[0m 3ms/step - accuracy: 0.7812 - loss: 0.3811 - val_accuracy: 0.8214 - val_loss: 0.3878\n",
      "Epoch 7/25\n",
      "\u001b[1m99/99\u001b[0m \u001b[32m━━━━━━━━━━━━━━━━━━━━\u001b[0m\u001b[37m\u001b[0m \u001b[1m103s\u001b[0m 1s/step - accuracy: 0.8251 - loss: 0.3653 - val_accuracy: 0.8451 - val_loss: 0.3465\n",
      "Epoch 8/25\n",
      "\u001b[1m99/99\u001b[0m \u001b[32m━━━━━━━━━━━━━━━━━━━━\u001b[0m\u001b[37m\u001b[0m \u001b[1m1s\u001b[0m 3ms/step - accuracy: 0.8438 - loss: 0.2528 - val_accuracy: 0.8571 - val_loss: 0.3150\n",
      "Epoch 9/25\n",
      "\u001b[1m99/99\u001b[0m \u001b[32m━━━━━━━━━━━━━━━━━━━━\u001b[0m\u001b[37m\u001b[0m \u001b[1m103s\u001b[0m 1s/step - accuracy: 0.8643 - loss: 0.3027 - val_accuracy: 0.8490 - val_loss: 0.3413\n",
      "Epoch 10/25\n",
      "\u001b[1m99/99\u001b[0m \u001b[32m━━━━━━━━━━━━━━━━━━━━\u001b[0m\u001b[37m\u001b[0m \u001b[1m1s\u001b[0m 3ms/step - accuracy: 0.8750 - loss: 0.3920 - val_accuracy: 1.0000 - val_loss: 0.1873\n",
      "Epoch 11/25\n",
      "\u001b[1m99/99\u001b[0m \u001b[32m━━━━━━━━━━━━━━━━━━━━\u001b[0m\u001b[37m\u001b[0m \u001b[1m97s\u001b[0m 971ms/step - accuracy: 0.8908 - loss: 0.2624 - val_accuracy: 0.8594 - val_loss: 0.3328\n",
      "Epoch 12/25\n",
      "\u001b[1m99/99\u001b[0m \u001b[32m━━━━━━━━━━━━━━━━━━━━\u001b[0m\u001b[37m\u001b[0m \u001b[1m1s\u001b[0m 4ms/step - accuracy: 0.8438 - loss: 0.3124 - val_accuracy: 0.8214 - val_loss: 0.3338\n",
      "Epoch 13/25\n",
      "\u001b[1m99/99\u001b[0m \u001b[32m━━━━━━━━━━━━━━━━━━━━\u001b[0m\u001b[37m\u001b[0m \u001b[1m110s\u001b[0m 1s/step - accuracy: 0.9078 - loss: 0.2340 - val_accuracy: 0.8750 - val_loss: 0.3049\n",
      "Epoch 14/25\n",
      "\u001b[1m99/99\u001b[0m \u001b[32m━━━━━━━━━━━━━━━━━━━━\u001b[0m\u001b[37m\u001b[0m \u001b[1m1s\u001b[0m 3ms/step - accuracy: 0.8750 - loss: 0.3566 - val_accuracy: 0.7500 - val_loss: 0.4600\n",
      "Epoch 15/25\n",
      "\u001b[1m99/99\u001b[0m \u001b[32m━━━━━━━━━━━━━━━━━━━━\u001b[0m\u001b[37m\u001b[0m \u001b[1m106s\u001b[0m 1s/step - accuracy: 0.9214 - loss: 0.2020 - val_accuracy: 0.8503 - val_loss: 0.3256\n"
     ]
    }
   ],
   "source": [
    "# definition\n",
    "\n",
    "model = Sequential([\n",
    "    Conv2D(32, (3, 3), activation='relu', input_shape=(img_height, img_width, 3)),\n",
    "    MaxPooling2D(pool_size=(2, 2)),\n",
    "    Conv2D(64, (3, 3), activation='relu'),\n",
    "    MaxPooling2D(pool_size=(2, 2)),\n",
    "    Conv2D(128, (3, 3), activation='relu'),\n",
    "    MaxPooling2D(pool_size=(2, 2)),\n",
    "    Flatten(),\n",
    "    Dense(512, activation='relu'),\n",
    "    Dropout(0.5),\n",
    "    Dense(train_generator.num_classes, activation='softmax')\n",
    "])\n",
    "\n",
    "model.compile(optimizer='adam', loss='categorical_crossentropy', metrics=['accuracy'])\n",
    "\n",
    "\n",
    "# training\n",
    "\n",
    "early_stop = EarlyStopping(monitor='val_loss', patience=5, restore_best_weights=True)\n",
    "\n",
    "history = model.fit(\n",
    "    train_generator,\n",
    "    steps_per_epoch=train_generator.samples // batch_size,\n",
    "    validation_data=validation_generator,\n",
    "    validation_steps=validation_generator.samples // batch_size,\n",
    "    epochs=25,\n",
    "    callbacks=[early_stop]\n",
    ")"
   ]
  },
  {
   "cell_type": "markdown",
   "id": "b5e27611-78fc-481d-9714-5898ed71de06",
   "metadata": {},
   "source": [
    "# Model evaluation"
   ]
  },
  {
   "cell_type": "code",
   "execution_count": 5,
   "id": "45ec2b89-bf9b-419a-929e-eaa31521f554",
   "metadata": {},
   "outputs": [
    {
     "name": "stdout",
     "output_type": "stream",
     "text": [
      "\u001b[1m25/25\u001b[0m \u001b[32m━━━━━━━━━━━━━━━━━━━━\u001b[0m\u001b[37m\u001b[0m \u001b[1m5s\u001b[0m 216ms/step - accuracy: 0.8512 - loss: 0.3493\n",
      "Validation Accuracy: 85.05%\n",
      "\u001b[1m25/25\u001b[0m \u001b[32m━━━━━━━━━━━━━━━━━━━━\u001b[0m\u001b[37m\u001b[0m \u001b[1m7s\u001b[0m 287ms/step\n",
      "Classification Report\n",
      "              precision    recall  f1-score   support\n",
      "\n",
      "      galaxy       0.23      0.26      0.24       188\n",
      "        star       0.76      0.73      0.74       608\n",
      "\n",
      "    accuracy                           0.62       796\n",
      "   macro avg       0.49      0.49      0.49       796\n",
      "weighted avg       0.63      0.62      0.62       796\n",
      "\n",
      "Confusion Matrix\n",
      "[[ 48 140]\n",
      " [165 443]]\n"
     ]
    }
   ],
   "source": [
    "val_loss, val_acc = model.evaluate(validation_generator)\n",
    "print(f'Validation Accuracy: {val_acc * 100:.2f}%')\n",
    "\n",
    "# Report di classificazione\n",
    "Y_pred = model.predict(validation_generator)\n",
    "y_pred = np.argmax(Y_pred, axis=1)\n",
    "print('Classification Report')\n",
    "print(classification_report(validation_generator.classes, y_pred, target_names=validation_generator.class_indices.keys()))\n",
    "\n",
    "# Matrice di confusione\n",
    "print('Confusion Matrix')\n",
    "print(confusion_matrix(validation_generator.classes, y_pred))"
   ]
  },
  {
   "cell_type": "code",
   "execution_count": 22,
   "id": "da2bb7d0-65bd-4f93-82bd-14bb2818aa3b",
   "metadata": {},
   "outputs": [
    {
     "name": "stderr",
     "output_type": "stream",
     "text": [
      "WARNING:absl:You are saving your model as an HDF5 file via `model.save()` or `keras.saving.save_model(model)`. This file format is considered legacy. We recommend using instead the native Keras format, e.g. `model.save('my_model.keras')` or `keras.saving.save_model(model, 'my_model.keras')`. \n"
     ]
    }
   ],
   "source": [
    "# Saving the model\n",
    "model.save('astronomy_classification_model.h5')\n"
   ]
  },
  {
   "cell_type": "code",
   "execution_count": 23,
   "id": "d9f29a8f-cbe6-46c5-a044-67139e5d6002",
   "metadata": {},
   "outputs": [
    {
     "data": {
      "image/png": "[encoded data removed]",
      "text/plain": [
       "<Figure size 640x480 with 1 Axes>"
      ]
     },
     "metadata": {},
     "output_type": "display_data"
    }
   ],
   "source": [
    "# **Output visualization**\n",
    "\n",
    "plt.plot(history.history['accuracy'], label='Accuracy')\n",
    "plt.plot(history.history['val_accuracy'], label = 'Validation Accuracy')\n",
    "plt.xlabel('Epoch')\n",
    "plt.ylabel('Accuracy')\n",
    "plt.ylim([0, 1])\n",
    "plt.legend(loc='lower right')\n",
    "plt.show()"
   ]
  },
  {
   "cell_type": "markdown",
   "id": "847ad4cf-74a4-4b6f-8d09-ffa05082673a",
   "metadata": {},
   "source": [
    "# **Forecast on new images:**\n",
    "\n",
    "We now try our CNN model on new astronomical takes; in particular, we try to classify the following\n",
    "\n",
    "<img src=\"JADES-GS-z14-0_bbc.jpg\" alt=\"JADES-GS-z14-0_by_bbc\" width=\"300\"/>\n",
    "\n",
    "being a picture by James Webb Space Telescope of the oldest galaxy ever observed (see [Wired article](https://wired.me/science/james-webb-space-telescope-uncovers-the-oldest-galaxy-in-the-universe/))"
   ]
  },
  {
   "cell_type": "code",
   "execution_count": 12,
   "id": "87e09ad2-6288-4388-9ad9-7eb5f81b0d14",
   "metadata": {},
   "outputs": [
    {
     "name": "stdout",
     "output_type": "stream",
     "text": [
      "\u001b[1m1/1\u001b[0m \u001b[32m━━━━━━━━━━━━━━━━━━━━\u001b[0m\u001b[37m\u001b[0m \u001b[1m0s\u001b[0m 125ms/step\n",
      "Predicted Class: galaxy\n"
     ]
    }
   ],
   "source": [
    "from tensorflow.keras.preprocessing import image\n",
    "\n",
    "img_path = 'JADES-GS-z14-0_bbc.jpg'\n",
    "img = image.load_img(img_path, target_size=(img_height, img_width))\n",
    "img_array = image.img_to_array(img)\n",
    "img_array = np.expand_dims(img_array, axis=0) / 255.0\n",
    "\n",
    "# Forecast\n",
    "prediction = model.predict(img_array)\n",
    "predicted_class = np.argmax(prediction, axis=1)\n",
    "class_labels = list(train_generator.class_indices.keys())\n",
    "print(f'Predicted Class: {class_labels[predicted_class[0]]}')\n"
   ]
  },
  {
   "cell_type": "markdown",
   "id": "08f0bbdf-3407-44e5-9f5a-2925584b28f9",
   "metadata": {},
   "source": [
    "Notice that the image of the galaxy JADES-GS-z14-0 is correctly classified."
   ]
  },
  {
   "cell_type": "markdown",
   "id": "0bedccb8-ef14-4453-b37e-a7fb3d4462b0",
   "metadata": {},
   "source": [
    "Let's now try to apply our DL classification algorithm to images that are not real astronomical photographs, but digital reconstructions."
   ]
  },
  {
   "cell_type": "markdown",
   "id": "73b6d1be-deb9-49f9-a5ba-0fd3327385b7",
   "metadata": {},
   "source": [
    "First, we test on a digitalisation of the JADES-GS-z14-0 galaxy:\n",
    "\n",
    "<img src=\"JADES-GS-z14-0.jpg\" alt=\"Digital JADES-GS-z14-0\" width=\"300\"/>\n",
    "\n",
    "and we see the forecast to not predict the correct class."
   ]
  },
  {
   "cell_type": "code",
   "execution_count": 13,
   "id": "afb5c0ac-635a-4534-9512-1359b78400d4",
   "metadata": {},
   "outputs": [
    {
     "name": "stdout",
     "output_type": "stream",
     "text": [
      "\u001b[1m1/1\u001b[0m \u001b[32m━━━━━━━━━━━━━━━━━━━━\u001b[0m\u001b[37m\u001b[0m \u001b[1m0s\u001b[0m 63ms/step\n",
      "Predicted Class: star\n"
     ]
    }
   ],
   "source": [
    "img_path = 'JADES-GS-z14-0.jpg'\n",
    "img = image.load_img(img_path, target_size=(img_height, img_width))\n",
    "img_array = image.img_to_array(img)\n",
    "img_array = np.expand_dims(img_array, axis=0) / 255.0\n",
    "\n",
    "# Forecast\n",
    "prediction = model.predict(img_array)\n",
    "predicted_class = np.argmax(prediction, axis=1)\n",
    "class_labels = list(train_generator.class_indices.keys())\n",
    "print(f'Predicted Class: {class_labels[predicted_class[0]]}')"
   ]
  },
  {
   "cell_type": "markdown",
   "id": "fcec0180-fd69-45b0-9c20-886bfc31c759",
   "metadata": {},
   "source": [
    "Let's try on a digital image of the sun\n",
    "\n",
    "<img src=\"sun.jpg\" alt=\"TheSun\" width=\"300\"/>"
   ]
  },
  {
   "cell_type": "code",
   "execution_count": 15,
   "id": "e104dcb9-ac21-4d91-a737-83d2f3090c2f",
   "metadata": {},
   "outputs": [
    {
     "name": "stdout",
     "output_type": "stream",
     "text": [
      "\u001b[1m1/1\u001b[0m \u001b[32m━━━━━━━━━━━━━━━━━━━━\u001b[0m\u001b[37m\u001b[0m \u001b[1m0s\u001b[0m 53ms/step\n",
      "Predicted Class: galaxy\n"
     ]
    }
   ],
   "source": [
    "img_path = 'sun.jpg'\n",
    "img = image.load_img(img_path, target_size=(img_height, img_width))\n",
    "img_array = image.img_to_array(img)\n",
    "img_array = np.expand_dims(img_array, axis=0) / 255.0\n",
    "\n",
    "# Forecast\n",
    "prediction = model.predict(img_array)\n",
    "predicted_class = np.argmax(prediction, axis=1)\n",
    "class_labels = list(train_generator.class_indices.keys())\n",
    "print(f'Predicted Class: {class_labels[predicted_class[0]]}')"
   ]
  },
  {
   "cell_type": "markdown",
   "id": "3718c608-eadf-4bdb-b8d8-9d516c8a3cae",
   "metadata": {},
   "source": [
    "which is wrong again. It seems the algorithm to not work well on digital pictures. \n",
    "\n",
    "Let's try on some of the 12 galaxies observed by Hubble telescope ([source](https://www.eurekalert.org/multimedia/831651))\n",
    "\n",
    "<img src=\"12_galaxies_Hubble.jpg\" alt=\"Galaxies\" width=\"300\"/>"
   ]
  },
  {
   "cell_type": "code",
   "execution_count": 17,
   "id": "5faba1ed-4bfd-4fc2-b96c-edf5ef0c8760",
   "metadata": {},
   "outputs": [
    {
     "name": "stdout",
     "output_type": "stream",
     "text": [
      "\u001b[1m1/1\u001b[0m \u001b[32m━━━━━━━━━━━━━━━━━━━━\u001b[0m\u001b[37m\u001b[0m \u001b[1m0s\u001b[0m 53ms/step\n",
      "Predicted Class: galaxy\n"
     ]
    }
   ],
   "source": [
    "img_path = 'J1558+3957.jpg'\n",
    "img = image.load_img(img_path, target_size=(img_height, img_width))\n",
    "img_array = image.img_to_array(img)\n",
    "img_array = np.expand_dims(img_array, axis=0) / 255.0\n",
    "\n",
    "# Forecast\n",
    "prediction = model.predict(img_array)\n",
    "predicted_class = np.argmax(prediction, axis=1)\n",
    "class_labels = list(train_generator.class_indices.keys())\n",
    "print(f'Predicted Class: {class_labels[predicted_class[0]]}')"
   ]
  },
  {
   "cell_type": "code",
   "execution_count": 21,
   "id": "b13f3b12-36e2-4a15-a3e3-e7167a5bb729",
   "metadata": {},
   "outputs": [
    {
     "name": "stdout",
     "output_type": "stream",
     "text": [
      "\u001b[1m1/1\u001b[0m \u001b[32m━━━━━━━━━━━━━━━━━━━━\u001b[0m\u001b[37m\u001b[0m \u001b[1m0s\u001b[0m 66ms/step\n",
      "Predicted Class: star\n"
     ]
    }
   ],
   "source": [
    "img_path = 'J0826+4305.jpg'\n",
    "img = image.load_img(img_path, target_size=(img_height, img_width))\n",
    "img_array = image.img_to_array(img)\n",
    "img_array = np.expand_dims(img_array, axis=0) / 255.0\n",
    "\n",
    "# Forecast\n",
    "prediction = model.predict(img_array)\n",
    "predicted_class = np.argmax(prediction, axis=1)\n",
    "class_labels = list(train_generator.class_indices.keys())\n",
    "print(f'Predicted Class: {class_labels[predicted_class[0]]}')"
   ]
  },
  {
   "cell_type": "code",
   "execution_count": 20,
   "id": "968d7500-08e8-49a2-b645-3a9c89f65750",
   "metadata": {},
   "outputs": [
    {
     "name": "stdout",
     "output_type": "stream",
     "text": [
      "\u001b[1m1/1\u001b[0m \u001b[32m━━━━━━━━━━━━━━━━━━━━\u001b[0m\u001b[37m\u001b[0m \u001b[1m0s\u001b[0m 47ms/step\n",
      "Predicted Class: star\n"
     ]
    }
   ],
   "source": [
    "img_path = 'J2140+1209.jpg'\n",
    "img = image.load_img(img_path, target_size=(img_height, img_width))\n",
    "img_array = image.img_to_array(img)\n",
    "img_array = np.expand_dims(img_array, axis=0) / 255.0\n",
    "\n",
    "# Forecast\n",
    "prediction = model.predict(img_array)\n",
    "predicted_class = np.argmax(prediction, axis=1)\n",
    "class_labels = list(train_generator.class_indices.keys())\n",
    "print(f'Predicted Class: {class_labels[predicted_class[0]]}')"
   ]
  },
  {
   "cell_type": "markdown",
   "id": "bf0bdb7d-bcdf-4a26-8475-564554a1afd5",
   "metadata": {},
   "source": [
    "It turns out our model to be heavily constrained by the training images, which are real astronomical pictures on the form\n",
    "\n",
    "<img src=\"sn12c01_03_1012_1178_3.jpg\" alt=\"RealStar\" width=\"150\"/>\n",
    "\n",
    "and it struggles on images that have been enhanced and refined.\n",
    "\n",
    "That is not necessarily a drawback, as these types of models are used for real images."
   ]
  },
  {
   "cell_type": "code",
   "execution_count": null,
   "id": "8984bc2d-910b-4132-a212-d0c8fabd3676",
   "metadata": {},
   "outputs": [],
   "source": []
  }
 ],
 "metadata": {
  "kernelspec": {
   "display_name": "Python 3 (ipykernel)",
   "language": "python",
   "name": "python3"
  },
  "language_info": {
   "codemirror_mode": {
    "name": "ipython",
    "version": 3
   },
   "file_extension": ".py",
   "mimetype": "text/x-python",
   "name": "python",
   "nbconvert_exporter": "python",
   "pygments_lexer": "ipython3",
   "version": "3.10.14"
  }
 },
 "nbformat": 4,
 "nbformat_minor": 5
}
